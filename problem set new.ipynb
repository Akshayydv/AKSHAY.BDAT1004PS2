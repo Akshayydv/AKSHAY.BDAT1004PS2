{
 "cells": [
  {
   "cell_type": "code",
   "execution_count": 36,
   "id": "1f9da506",
   "metadata": {},
   "outputs": [
    {
     "data": {
      "text/plain": [
       "6"
      ]
     },
     "execution_count": 36,
     "metadata": {},
     "output_type": "execute_result"
    }
   ],
   "source": [
    "#question 1\n",
    "a=0\n",
    "def b():\n",
    "  global a\n",
    "  a=c(a)\n",
    "def c(a):\n",
    "  return a+2    \n",
    "b()\n",
    "b()\n",
    "b()\n",
    "a"
   ]
  },
  {
   "cell_type": "code",
   "execution_count": 37,
   "id": "11f01fa8",
   "metadata": {},
   "outputs": [
    {
     "name": "stdout",
     "output_type": "stream",
     "text": [
      "file hello.txt not found\n"
     ]
    }
   ],
   "source": [
    "#question 2\n",
    "def fileLength(file_name):\n",
    "  try:\n",
    "     file=open(file_name)\n",
    "     contents=file.read()\n",
    "     print(len(contents))\n",
    "  except FileNotFoundError:\n",
    "    print(\"file \"+file_name+\" not found\")\n",
    " \n",
    "fileLength(\"hello.txt\")"
   ]
  },
  {
   "cell_type": "code",
   "execution_count": 38,
   "id": "750e3696",
   "metadata": {},
   "outputs": [],
   "source": [
    "#question3\n",
    "class Content:\n",
    "    def __init__(self):\n",
    "        self.pouch = []\n",
    "        \n",
    "    def insert_in_pouch(self, item):\n",
    "        self.pouch.append(item)\n",
    "        \n",
    "    def items_in_pouch(self):\n",
    "        return self.pouch\n",
    "    "
   ]
  },
  {
   "cell_type": "code",
   "execution_count": 39,
   "id": "f1511bb2",
   "metadata": {},
   "outputs": [
    {
     "data": {
      "text/plain": [
       "['apple', 'mangoes', 'grapes']"
      ]
     },
     "execution_count": 39,
     "metadata": {},
     "output_type": "execute_result"
    }
   ],
   "source": [
    "m = Content()\n",
    "m.insert_in_pouch('apple')\n",
    "m.insert_in_pouch('mangoes')\n",
    "m.insert_in_pouch('grapes')\n",
    "\n",
    "m.items_in_pouch()"
   ]
  },
  {
   "cell_type": "code",
   "execution_count": 40,
   "id": "c9d4c2c6",
   "metadata": {},
   "outputs": [
    {
     "name": "stdout",
     "output_type": "stream",
     "text": [
      "I am a Kangaroo located at coordinates (0,0)\n",
      "I am a Kangaroo located at coordinates (3,0)\n"
     ]
    }
   ],
   "source": [
    "#question 3\n",
    "class Marsupial():\n",
    "    def __init__(self):\n",
    "        self.lst=[]\n",
    "    def put_in_pouch(self,xx):\n",
    "        self.lst.append(xx)        \n",
    "    def pouch_contents(self):\n",
    "        return self.lst\n",
    "class Kangaroo(Marsupial):\n",
    "    def __init__(self,x,y):\n",
    "        Marsupial.__init__(self)\n",
    "        self.x=x\n",
    "        self.y=y\n",
    "        \n",
    "    def jump(self, dx,dy):\n",
    "        self.x +=dx\n",
    "        self.y +=dy\n",
    "        \n",
    "    def __str__(self):\n",
    "        return(\"I am a Kangaroo located at coordinates ({},{})\".format(self.x,self.y))\n",
    "  \n",
    "k = Kangaroo(0,0)\n",
    "print(k) \n",
    "k.put_in_pouch('doll') \n",
    "k.put_in_pouch('firetruck')\n",
    "k.put_in_pouch('kitten')\n",
    "k.pouch_contents()\n",
    "k.jump(1,0)\n",
    "k.jump(1,0)\n",
    "k.jump(1,0)\n",
    "print(k)"
   ]
  },
  {
   "cell_type": "code",
   "execution_count": 41,
   "id": "93307708",
   "metadata": {},
   "outputs": [
    {
     "name": "stdout",
     "output_type": "stream",
     "text": [
      "10\n",
      "5.0\n",
      "16.0\n",
      "8.0\n",
      "4.0\n",
      "2.0\n",
      "1.0\n"
     ]
    }
   ],
   "source": [
    "#question 4\n",
    "def collatz(a):\n",
    "  if a==1:\n",
    "    print(a)\n",
    "    return\n",
    "  elif a%2==0:\n",
    "    print(a)\n",
    "    collatz(a/2)\n",
    "  else :\n",
    "    print(a)\n",
    "    collatz(3*a+1)\n",
    "collatz(10)    "
   ]
  },
  {
   "cell_type": "code",
   "execution_count": 42,
   "id": "4ca6607b",
   "metadata": {},
   "outputs": [
    {
     "name": "stdout",
     "output_type": "stream",
     "text": [
      "01"
     ]
    }
   ],
   "source": [
    "#question 5\n",
    "def binary(a):\n",
    "  if a==1:\n",
    "    print(1,end='')\n",
    "    return\n",
    "  elif a==0:\n",
    "    print(0,end='')\n",
    "  else:\n",
    "    print(a%2,end='')\n",
    "    binary(a/2)\n",
    "binary(2)"
   ]
  },
  {
   "cell_type": "code",
   "execution_count": 43,
   "id": "452905a2",
   "metadata": {},
   "outputs": [
    {
     "name": "stdout",
     "output_type": "stream",
     "text": [
      "\n",
      "\n",
      "\n",
      "W3C Mission\n",
      "\n",
      "\t\n",
      "Principles\n",
      "\n",
      " \n",
      "\n",
      "\n",
      "\n",
      "\n",
      "\n"
     ]
    }
   ],
   "source": [
    "#question 6\n",
    "from urllib.parse import urljoin\n",
    "from html.parser import HTMLParser\n",
    "from urllib.request import urlopen\n",
    "\n",
    "var='False'\n",
    "\n",
    "class HeadingParser(HTMLParser):  \n",
    "    def handle_starttag(self, tag, attrs):\n",
    "        if tag == 'h1':\n",
    "            global var\n",
    "            var = \"True\" \n",
    "    def handle_endtag(self, tag):\n",
    "        if var == \"False\":\n",
    "            print(\"\")\n",
    "    def handle_data(self, data):\n",
    "        if var == \"True\":\n",
    "                \n",
    "            print(data)\n",
    "\n",
    "infile = open('w3c.html') \n",
    "content = infile.read() \n",
    "infile.close() \n",
    "linkparser = HeadingParser() \n",
    "linkparser.feed(content) "
   ]
  },
  {
   "cell_type": "code",
   "execution_count": 23,
   "id": "e0aa783e",
   "metadata": {},
   "outputs": [
    {
     "name": "stdout",
     "output_type": "stream",
     "text": [
      "Collecting ipython-sql\n",
      "  Downloading ipython_sql-0.4.0-py3-none-any.whl (19 kB)\n",
      "Requirement already satisfied: ipython>=1.0 in c:\\programdata\\anaconda3\\lib\\site-packages (from ipython-sql) (7.22.0)\n",
      "Collecting prettytable<1\n",
      "  Downloading prettytable-0.7.2.zip (28 kB)\n",
      "Requirement already satisfied: ipython-genutils>=0.1.0 in c:\\programdata\\anaconda3\\lib\\site-packages (from ipython-sql) (0.2.0)\n",
      "Collecting sqlparse\n",
      "  Downloading sqlparse-0.4.2-py3-none-any.whl (42 kB)\n",
      "Requirement already satisfied: six in c:\\programdata\\anaconda3\\lib\\site-packages (from ipython-sql) (1.15.0)\n",
      "Requirement already satisfied: sqlalchemy>=0.6.7 in c:\\programdata\\anaconda3\\lib\\site-packages (from ipython-sql) (1.4.7)\n",
      "Requirement already satisfied: pickleshare in c:\\programdata\\anaconda3\\lib\\site-packages (from ipython>=1.0->ipython-sql) (0.7.5)\n",
      "Requirement already satisfied: backcall in c:\\programdata\\anaconda3\\lib\\site-packages (from ipython>=1.0->ipython-sql) (0.2.0)\n",
      "Requirement already satisfied: prompt-toolkit!=3.0.0,!=3.0.1,<3.1.0,>=2.0.0 in c:\\programdata\\anaconda3\\lib\\site-packages (from ipython>=1.0->ipython-sql) (3.0.17)\n",
      "Requirement already satisfied: colorama in c:\\programdata\\anaconda3\\lib\\site-packages (from ipython>=1.0->ipython-sql) (0.4.4)\n",
      "Requirement already satisfied: setuptools>=18.5 in c:\\programdata\\anaconda3\\lib\\site-packages (from ipython>=1.0->ipython-sql) (52.0.0.post20210125)\n",
      "Requirement already satisfied: pygments in c:\\programdata\\anaconda3\\lib\\site-packages (from ipython>=1.0->ipython-sql) (2.8.1)\n",
      "Requirement already satisfied: decorator in c:\\programdata\\anaconda3\\lib\\site-packages (from ipython>=1.0->ipython-sql) (5.0.6)\n",
      "Requirement already satisfied: traitlets>=4.2 in c:\\programdata\\anaconda3\\lib\\site-packages (from ipython>=1.0->ipython-sql) (5.0.5)\n",
      "Requirement already satisfied: jedi>=0.16 in c:\\programdata\\anaconda3\\lib\\site-packages (from ipython>=1.0->ipython-sql) (0.17.2)\n",
      "Requirement already satisfied: parso<0.8.0,>=0.7.0 in c:\\programdata\\anaconda3\\lib\\site-packages (from jedi>=0.16->ipython>=1.0->ipython-sql) (0.7.0)\n",
      "Requirement already satisfied: wcwidth in c:\\programdata\\anaconda3\\lib\\site-packages (from prompt-toolkit!=3.0.0,!=3.0.1,<3.1.0,>=2.0.0->ipython>=1.0->ipython-sql) (0.2.5)\n",
      "Requirement already satisfied: greenlet!=0.4.17 in c:\\programdata\\anaconda3\\lib\\site-packages (from sqlalchemy>=0.6.7->ipython-sql) (1.0.0)\n",
      "Building wheels for collected packages: prettytable\n",
      "  Building wheel for prettytable (setup.py): started\n",
      "  Building wheel for prettytable (setup.py): finished with status 'done'\n",
      "  Created wheel for prettytable: filename=prettytable-0.7.2-py3-none-any.whl size=13699 sha256=711147f18d62564b189cf5f63561d06e1b4caba773daa77ea5007dca66c808f0\n",
      "  Stored in directory: c:\\users\\yoges\\appdata\\local\\pip\\cache\\wheels\\48\\6d\\77\\9517cb933af254f51a446f1a5ec9c2be3e45f17384940bce68\n",
      "Successfully built prettytable\n",
      "Installing collected packages: sqlparse, prettytable, ipython-sql\n",
      "Successfully installed ipython-sql-0.4.0 prettytable-0.7.2 sqlparse-0.4.2\n",
      "('Mumbai', 'India', 'Winter', 24.8, 5.9)\n",
      "('Mumbai', 'India', 'Spring', 28.4, 16.2)\n",
      "('Mumbai', 'India', 'Summer', 27.9, 1549.4)\n",
      "('Mumbai', 'India', 'Fall', 27.6, 346.0)\n",
      "('London', 'United Kingdom', 'Winter', 4.2, 207.7)\n",
      "('London', 'United Kingdom', 'Spring', 8.3, 169.6)\n",
      "('London', 'United Kingdom', 'Summer', 15.7, 157.0)\n",
      "('London', 'United Kingdom', 'Fall', 10.4, 218.5)\n",
      "('Cairo', 'Egypt', 'Winter', 13.6, 16.5)\n",
      "('Cairo', 'Egypt', 'Spring', 20.7, 6.5)\n",
      "('Cairo', 'Egypt', 'Summer', 27.7, 0.1)\n",
      "('Cairo', 'Egypt', 'Fall', 22.2, 4.5)\n"
     ]
    }
   ],
   "source": [
    "#question8\n",
    "!pip install ipython-sql\n",
    "import sqlite3\n",
    "con = sqlite3.connect('mydatabase.db')\n",
    "cur = con.cursor()\n",
    "cur.execute(\"CREATE TABLE DATA1 (City text, Country text, Season text, Temperature float, Rainfall float)\")\n",
    "lst=[('Mumbai', 'India','Winter',24.8, 5.9),('Mumbai','India','Spring',28.4,16.2),('Mumbai','India','Summer',27.9,1549.4),\n",
    "     ('Mumbai','India','Fall',27.6,346.0),('London','United Kingdom','Winter',4.2,207.7),\n",
    "     ('London','United Kingdom','Spring',8.3,169.6),('London','United Kingdom','Summer',15.7,157.0),\n",
    "     ('London','United Kingdom','Fall',10.4,218.5),('Cairo','Egypt','Winter',13.6,16.5),('Cairo','Egypt','Spring',20.7,6.5),\n",
    "     ('Cairo','Egypt','Summer',27.7,0.1),('Cairo','Egypt','Fall',22.2,4.5)]\n",
    "for i in lst:\n",
    "    cur.execute(\"INSERT INTO DATA1 VALUES (?,?,?,?,?)\",i)\n",
    "    con.commit()\n",
    "con.close()\n",
    "con = sqlite3.connect('mydatabase.db')\n",
    "cur = con.cursor()\n",
    "cur.execute('SELECT * FROM DATA1')\n",
    "for i in cur :\n",
    "    print(i)\n",
    "    #cur.fetchall()"
   ]
  },
  {
   "cell_type": "code",
   "execution_count": 24,
   "id": "be4d6f94",
   "metadata": {},
   "outputs": [
    {
     "data": {
      "text/plain": [
       "[(24.8,),\n",
       " (28.4,),\n",
       " (27.9,),\n",
       " (27.6,),\n",
       " (4.2,),\n",
       " (8.3,),\n",
       " (15.7,),\n",
       " (10.4,),\n",
       " (13.6,),\n",
       " (20.7,),\n",
       " (27.7,),\n",
       " (22.2,)]"
      ]
     },
     "execution_count": 24,
     "metadata": {},
     "output_type": "execute_result"
    }
   ],
   "source": [
    "#QUESTION 8a:All the temperature data.\n",
    "\n",
    "cur.execute('SELECT Temperature FROM DATA1')\n",
    "cur.fetchall()\n",
    "\n",
    "\n"
   ]
  },
  {
   "cell_type": "code",
   "execution_count": 26,
   "id": "2db018dc",
   "metadata": {
    "scrolled": true
   },
   "outputs": [
    {
     "data": {
      "text/plain": [
       "[('Mumbai',), ('London',), ('Cairo',)]"
      ]
     },
     "execution_count": 26,
     "metadata": {},
     "output_type": "execute_result"
    }
   ],
   "source": [
    "#8b:All the cities, but without repetition.\n",
    "cur.execute('SELECT DISTINCT City from DATA1');\n",
    "cur.fetchall()\n"
   ]
  },
  {
   "cell_type": "code",
   "execution_count": 27,
   "id": "a9745903",
   "metadata": {},
   "outputs": [
    {
     "data": {
      "text/plain": [
       "[('Mumbai', 'India', 'Winter', 24.8, 5.9),\n",
       " ('Mumbai', 'India', 'Spring', 28.4, 16.2),\n",
       " ('Mumbai', 'India', 'Summer', 27.9, 1549.4),\n",
       " ('Mumbai', 'India', 'Fall', 27.6, 346.0)]"
      ]
     },
     "execution_count": 27,
     "metadata": {},
     "output_type": "execute_result"
    }
   ],
   "source": [
    "#8c:All the records for India.\n",
    "\n",
    "cur.execute('SELECT * FROM DATA1 WHERE Country =\"India\" ')\n",
    "cur.fetchall()"
   ]
  },
  {
   "cell_type": "code",
   "execution_count": 28,
   "id": "d5c4a64c",
   "metadata": {},
   "outputs": [
    {
     "data": {
      "text/plain": [
       "[('Mumbai', 'India', 'Winter', 24.8, 5.9),\n",
       " ('Mumbai', 'India', 'Spring', 28.4, 16.2),\n",
       " ('Mumbai', 'India', 'Summer', 27.9, 1549.4),\n",
       " ('Mumbai', 'India', 'Fall', 27.6, 346.0)]"
      ]
     },
     "execution_count": 28,
     "metadata": {},
     "output_type": "execute_result"
    }
   ],
   "source": [
    "#8c:All the records for India.\n",
    "\n",
    "cur.execute('SELECT * FROM DATA1 WHERE Country =\"India\" ')\n",
    "cur.fetchall()"
   ]
  },
  {
   "cell_type": "code",
   "execution_count": 29,
   "id": "c0176a0d",
   "metadata": {},
   "outputs": [
    {
     "data": {
      "text/plain": [
       "[('Mumbai', 'India', 'Winter', 24.8, 5.9),\n",
       " ('Mumbai', 'India', 'Spring', 28.4, 16.2),\n",
       " ('Mumbai', 'India', 'Summer', 27.9, 1549.4),\n",
       " ('Mumbai', 'India', 'Fall', 27.6, 346.0)]"
      ]
     },
     "execution_count": 29,
     "metadata": {},
     "output_type": "execute_result"
    }
   ],
   "source": [
    "#8c:All the records for India.\n",
    "\n",
    "cur.execute('SELECT * FROM DATA1 WHERE Country =\"India\" ')\n",
    "cur.fetchall()"
   ]
  },
  {
   "cell_type": "code",
   "execution_count": 30,
   "id": "8090691b",
   "metadata": {},
   "outputs": [
    {
     "data": {
      "text/plain": [
       "[('Mumbai', 'India', 'Fall'),\n",
       " ('London', 'United Kingdom', 'Winter'),\n",
       " ('London', 'United Kingdom', 'Fall')]"
      ]
     },
     "execution_count": 30,
     "metadata": {},
     "output_type": "execute_result"
    }
   ],
   "source": [
    "#8e:The city, country, and season for which the average rainfall is between 200 and 400 millimeters.\n",
    "\n",
    "cur.execute('SELECT City,Country,Season FROM DATA1 WHERE Rainfall BETWEEN 200 AND 400 ')\n",
    "cur.fetchall()"
   ]
  },
  {
   "cell_type": "code",
   "execution_count": 31,
   "id": "9abe6fec",
   "metadata": {},
   "outputs": [
    {
     "data": {
      "text/plain": [
       "[('Cairo', 'Egypt'), ('Mumbai', 'India')]"
      ]
     },
     "execution_count": 31,
     "metadata": {},
     "output_type": "execute_result"
    }
   ],
   "source": [
    "#8f:The city and country for which the average Fall temperature is above 20 degrees, in increasing temperature order.\n",
    "\n",
    "cur.execute('SELECT City,Country FROM DATA1 WHERE Season=\"Fall\" AND Temperature>20 ORDER BY Temperature ASC  ')\n",
    "cur.fetchall()"
   ]
  },
  {
   "cell_type": "code",
   "execution_count": 32,
   "id": "092f47de",
   "metadata": {},
   "outputs": [
    {
     "data": {
      "text/plain": [
       "[(None,)]"
      ]
     },
     "execution_count": 32,
     "metadata": {},
     "output_type": "execute_result"
    }
   ],
   "source": [
    "#8g:The total annual rainfall for Cairo.\n",
    "\n",
    "cur.execute('SELECT SUM(Rainfall) FROM DATA1 WHERE Country=\"Cairo\" ')\n",
    "cur.fetchall()"
   ]
  },
  {
   "cell_type": "code",
   "execution_count": 33,
   "id": "f07ec157",
   "metadata": {},
   "outputs": [
    {
     "data": {
      "text/plain": [
       "[(569.0,), (192.29999999999998,), (1706.5,), (230.1,)]"
      ]
     },
     "execution_count": 33,
     "metadata": {},
     "output_type": "execute_result"
    }
   ],
   "source": [
    "#8h:The total rainfall for each season.\n",
    "\n",
    "cur.execute('SELECT SUM(Rainfall) FROM DATA1 GROUP BY Season ')\n",
    "cur.fetchall()"
   ]
  },
  {
   "cell_type": "code",
   "execution_count": 34,
   "id": "311f5e88",
   "metadata": {},
   "outputs": [
    {
     "name": "stdout",
     "output_type": "stream",
     "text": [
      "\thttp://reed.cs.depaul.edu/lperkovic/test1.html\n",
      "\t\thttp://reed.cs.depaul.edu/lperkovic/test2.html\n",
      "\t\t\thttp://reed.cs.depaul.edu/lperkovic/test4.html\n",
      "\t\thttp://reed.cs.depaul.edu/lperkovic/test3.html\n",
      "\t\t\thttp://reed.cs.depaul.edu/lperkovic/test4.html\n"
     ]
    }
   ],
   "source": [
    "#question 7\n",
    "def web(link,dp,ind):\n",
    "        for indentation in range(ind+1):\n",
    "            print('\\t',end='')\n",
    "        print(link)\n",
    "        content = urlopen(link).read().decode()\n",
    "        collector = Collector(link)\n",
    "        collector.feed(content)\n",
    "        links = collector.getLinks()\n",
    "        for i in range(dp):\n",
    "            try:\n",
    "                web(links[i],dp-1,ind+1)\n",
    "            except:\n",
    "                pass\n",
    "web('http://reed.cs.depaul.edu/lperkovic/test1.html',2,0)"
   ]
  },
  {
   "cell_type": "code",
   "execution_count": 35,
   "id": "e89ae713",
   "metadata": {},
   "outputs": [
    {
     "data": {
      "text/plain": [
       "[['THE', 'the', 3],\n",
       " ['QUICK', 'quick', 5],\n",
       " ['BROWN', 'brown', 5],\n",
       " ['FOX', 'fox', 3],\n",
       " ['JUMPS', 'jumps', 5],\n",
       " ['OVER', 'over', 4],\n",
       " ['THE', 'the', 3],\n",
       " ['LAZY', 'lazy', 4],\n",
       " ['DOG', 'dog', 3]]"
      ]
     },
     "execution_count": 35,
     "metadata": {},
     "output_type": "execute_result"
    }
   ],
   "source": [
    "#question 9\n",
    "words1=\"The quick brown fox jumps over the lazy dog\"\n",
    "words=words1.split()\n",
    "#a\n",
    "j=0\n",
    "for i in words:\n",
    "  words[j]=i.upper()\n",
    "  j+=1\n",
    "words\n",
    "#b\n",
    "j=0\n",
    "words=words1.split()\n",
    "for i in words:\n",
    "  words[j]=i.lower()\n",
    "  j+=1\n",
    "words\n",
    "#c\n",
    "l=[]\n",
    "words=words1.split()\n",
    "for i in words:\n",
    "  l.append(len(i))\n",
    "  \n",
    "l\n",
    "#d\n",
    "l=[]\n",
    "words=words1.split()\n",
    "for i in words:\n",
    "  temp=[]\n",
    "  temp.append(i.upper())\n",
    "  temp.append(i.lower())\n",
    "  temp.append(len(i))\n",
    "  l.append(temp)\n",
    "\n",
    "l\n",
    "  "
   ]
  },
  {
   "cell_type": "code",
   "execution_count": null,
   "id": "a467caaf",
   "metadata": {},
   "outputs": [],
   "source": []
  }
 ],
 "metadata": {
  "kernelspec": {
   "display_name": "Python 3 (ipykernel)",
   "language": "python",
   "name": "python3"
  },
  "language_info": {
   "codemirror_mode": {
    "name": "ipython",
    "version": 3
   },
   "file_extension": ".py",
   "mimetype": "text/x-python",
   "name": "python",
   "nbconvert_exporter": "python",
   "pygments_lexer": "ipython3",
   "version": "3.9.7"
  }
 },
 "nbformat": 4,
 "nbformat_minor": 5
}
